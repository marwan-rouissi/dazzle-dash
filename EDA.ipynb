{
 "cells": [
  {
   "cell_type": "code",
   "execution_count": 3,

   "metadata": {},
   "outputs": [],
   "source": [
    "import pandas as pd\n",
    "import matplotlib.pyplot as plt\n",
    "import plotly.express as px"

   ]
  },
  {
   "cell_type": "markdown",
   "metadata": {},
   "source": [
    "## Lecture du Csv, et affichage des 10 premières lignes"
   ]
  },
  {
   "cell_type": "code",
   "execution_count": 4,
   "metadata": {},
   "outputs": [
    {
     "data": {
      "text/html": [
       "<div>\n",
       "<style scoped>\n",
       "    .dataframe tbody tr th:only-of-type {\n",
       "        vertical-align: middle;\n",
       "    }\n",
       "\n",
       "    .dataframe tbody tr th {\n",
       "        vertical-align: top;\n",
       "    }\n",
       "\n",
       "    .dataframe thead th {\n",
       "        text-align: right;\n",
       "    }\n",
       "</style>\n",
       "<table border=\"1\" class=\"dataframe\">\n",
       "  <thead>\n",
       "    <tr style=\"text-align: right;\">\n",
       "      <th></th>\n",
       "      <th>Area Abbreviation</th>\n",
       "      <th>Area Code</th>\n",
       "      <th>Area</th>\n",
       "      <th>Item Code</th>\n",
       "      <th>Item</th>\n",
       "      <th>Element Code</th>\n",
       "      <th>Element</th>\n",
       "      <th>Unit</th>\n",
       "      <th>latitude</th>\n",
       "      <th>longitude</th>\n",
       "      <th>...</th>\n",
       "      <th>Y2004</th>\n",
       "      <th>Y2005</th>\n",
       "      <th>Y2006</th>\n",
       "      <th>Y2007</th>\n",
       "      <th>Y2008</th>\n",
       "      <th>Y2009</th>\n",
       "      <th>Y2010</th>\n",
       "      <th>Y2011</th>\n",
       "      <th>Y2012</th>\n",
       "      <th>Y2013</th>\n",
       "    </tr>\n",
       "  </thead>\n",
       "  <tbody>\n",
       "    <tr>\n",
       "      <th>0</th>\n",
       "      <td>AFG</td>\n",
       "      <td>2</td>\n",
       "      <td>Afghanistan</td>\n",
       "      <td>2511</td>\n",
       "      <td>Wheat and products</td>\n",
       "      <td>5142</td>\n",
       "      <td>Food</td>\n",
       "      <td>1000 tonnes</td>\n",
       "      <td>33.94</td>\n",
       "      <td>67.71</td>\n",
       "      <td>...</td>\n",
       "      <td>3249.0</td>\n",
       "      <td>3486.0</td>\n",
       "      <td>3704.0</td>\n",
       "      <td>4164.0</td>\n",
       "      <td>4252.0</td>\n",
       "      <td>4538.0</td>\n",
       "      <td>4605.0</td>\n",
       "      <td>4711.0</td>\n",
       "      <td>4810</td>\n",
       "      <td>4895</td>\n",
       "    </tr>\n",
       "    <tr>\n",
       "      <th>1</th>\n",
       "      <td>AFG</td>\n",
       "      <td>2</td>\n",
       "      <td>Afghanistan</td>\n",
       "      <td>2805</td>\n",
       "      <td>Rice (Milled Equivalent)</td>\n",
       "      <td>5142</td>\n",
       "      <td>Food</td>\n",
       "      <td>1000 tonnes</td>\n",
       "      <td>33.94</td>\n",
       "      <td>67.71</td>\n",
       "      <td>...</td>\n",
       "      <td>419.0</td>\n",
       "      <td>445.0</td>\n",
       "      <td>546.0</td>\n",
       "      <td>455.0</td>\n",
       "      <td>490.0</td>\n",
       "      <td>415.0</td>\n",
       "      <td>442.0</td>\n",
       "      <td>476.0</td>\n",
       "      <td>425</td>\n",
       "      <td>422</td>\n",
       "    </tr>\n",
       "    <tr>\n",
       "      <th>2</th>\n",
       "      <td>AFG</td>\n",
       "      <td>2</td>\n",
       "      <td>Afghanistan</td>\n",
       "      <td>2513</td>\n",
       "      <td>Barley and products</td>\n",
       "      <td>5521</td>\n",
       "      <td>Feed</td>\n",
       "      <td>1000 tonnes</td>\n",
       "      <td>33.94</td>\n",
       "      <td>67.71</td>\n",
       "      <td>...</td>\n",
       "      <td>58.0</td>\n",
       "      <td>236.0</td>\n",
       "      <td>262.0</td>\n",
       "      <td>263.0</td>\n",
       "      <td>230.0</td>\n",
       "      <td>379.0</td>\n",
       "      <td>315.0</td>\n",
       "      <td>203.0</td>\n",
       "      <td>367</td>\n",
       "      <td>360</td>\n",
       "    </tr>\n",
       "    <tr>\n",
       "      <th>3</th>\n",
       "      <td>AFG</td>\n",
       "      <td>2</td>\n",
       "      <td>Afghanistan</td>\n",
       "      <td>2513</td>\n",
       "      <td>Barley and products</td>\n",
       "      <td>5142</td>\n",
       "      <td>Food</td>\n",
       "      <td>1000 tonnes</td>\n",
       "      <td>33.94</td>\n",
       "      <td>67.71</td>\n",
       "      <td>...</td>\n",
       "      <td>185.0</td>\n",
       "      <td>43.0</td>\n",
       "      <td>44.0</td>\n",
       "      <td>48.0</td>\n",
       "      <td>62.0</td>\n",
       "      <td>55.0</td>\n",
       "      <td>60.0</td>\n",
       "      <td>72.0</td>\n",
       "      <td>78</td>\n",
       "      <td>89</td>\n",
       "    </tr>\n",
       "    <tr>\n",
       "      <th>4</th>\n",
       "      <td>AFG</td>\n",
       "      <td>2</td>\n",
       "      <td>Afghanistan</td>\n",
       "      <td>2514</td>\n",
       "      <td>Maize and products</td>\n",
       "      <td>5521</td>\n",
       "      <td>Feed</td>\n",
       "      <td>1000 tonnes</td>\n",
       "      <td>33.94</td>\n",
       "      <td>67.71</td>\n",
       "      <td>...</td>\n",
       "      <td>120.0</td>\n",
       "      <td>208.0</td>\n",
       "      <td>233.0</td>\n",
       "      <td>249.0</td>\n",
       "      <td>247.0</td>\n",
       "      <td>195.0</td>\n",
       "      <td>178.0</td>\n",
       "      <td>191.0</td>\n",
       "      <td>200</td>\n",
       "      <td>200</td>\n",
       "    </tr>\n",
       "    <tr>\n",
       "      <th>5</th>\n",
       "      <td>AFG</td>\n",
       "      <td>2</td>\n",
       "      <td>Afghanistan</td>\n",
       "      <td>2514</td>\n",
       "      <td>Maize and products</td>\n",
       "      <td>5142</td>\n",
       "      <td>Food</td>\n",
       "      <td>1000 tonnes</td>\n",
       "      <td>33.94</td>\n",
       "      <td>67.71</td>\n",
       "      <td>...</td>\n",
       "      <td>231.0</td>\n",
       "      <td>67.0</td>\n",
       "      <td>82.0</td>\n",
       "      <td>67.0</td>\n",
       "      <td>69.0</td>\n",
       "      <td>71.0</td>\n",
       "      <td>82.0</td>\n",
       "      <td>73.0</td>\n",
       "      <td>77</td>\n",
       "      <td>76</td>\n",
       "    </tr>\n",
       "    <tr>\n",
       "      <th>6</th>\n",
       "      <td>AFG</td>\n",
       "      <td>2</td>\n",
       "      <td>Afghanistan</td>\n",
       "      <td>2517</td>\n",
       "      <td>Millet and products</td>\n",
       "      <td>5142</td>\n",
       "      <td>Food</td>\n",
       "      <td>1000 tonnes</td>\n",
       "      <td>33.94</td>\n",
       "      <td>67.71</td>\n",
       "      <td>...</td>\n",
       "      <td>15.0</td>\n",
       "      <td>21.0</td>\n",
       "      <td>11.0</td>\n",
       "      <td>19.0</td>\n",
       "      <td>21.0</td>\n",
       "      <td>18.0</td>\n",
       "      <td>14.0</td>\n",
       "      <td>14.0</td>\n",
       "      <td>14</td>\n",
       "      <td>12</td>\n",
       "    </tr>\n",
       "    <tr>\n",
       "      <th>7</th>\n",
       "      <td>AFG</td>\n",
       "      <td>2</td>\n",
       "      <td>Afghanistan</td>\n",
       "      <td>2520</td>\n",
       "      <td>Cereals, Other</td>\n",
       "      <td>5142</td>\n",
       "      <td>Food</td>\n",
       "      <td>1000 tonnes</td>\n",
       "      <td>33.94</td>\n",
       "      <td>67.71</td>\n",
       "      <td>...</td>\n",
       "      <td>2.0</td>\n",
       "      <td>1.0</td>\n",
       "      <td>1.0</td>\n",
       "      <td>0.0</td>\n",
       "      <td>0.0</td>\n",
       "      <td>0.0</td>\n",
       "      <td>0.0</td>\n",
       "      <td>0.0</td>\n",
       "      <td>0</td>\n",
       "      <td>0</td>\n",
       "    </tr>\n",
       "    <tr>\n",
       "      <th>8</th>\n",
       "      <td>AFG</td>\n",
       "      <td>2</td>\n",
       "      <td>Afghanistan</td>\n",
       "      <td>2531</td>\n",
       "      <td>Potatoes and products</td>\n",
       "      <td>5142</td>\n",
       "      <td>Food</td>\n",
       "      <td>1000 tonnes</td>\n",
       "      <td>33.94</td>\n",
       "      <td>67.71</td>\n",
       "      <td>...</td>\n",
       "      <td>276.0</td>\n",
       "      <td>294.0</td>\n",
       "      <td>294.0</td>\n",
       "      <td>260.0</td>\n",
       "      <td>242.0</td>\n",
       "      <td>250.0</td>\n",
       "      <td>192.0</td>\n",
       "      <td>169.0</td>\n",
       "      <td>196</td>\n",
       "      <td>230</td>\n",
       "    </tr>\n",
       "    <tr>\n",
       "      <th>9</th>\n",
       "      <td>AFG</td>\n",
       "      <td>2</td>\n",
       "      <td>Afghanistan</td>\n",
       "      <td>2536</td>\n",
       "      <td>Sugar cane</td>\n",
       "      <td>5521</td>\n",
       "      <td>Feed</td>\n",
       "      <td>1000 tonnes</td>\n",
       "      <td>33.94</td>\n",
       "      <td>67.71</td>\n",
       "      <td>...</td>\n",
       "      <td>50.0</td>\n",
       "      <td>29.0</td>\n",
       "      <td>61.0</td>\n",
       "      <td>65.0</td>\n",
       "      <td>54.0</td>\n",
       "      <td>114.0</td>\n",
       "      <td>83.0</td>\n",
       "      <td>83.0</td>\n",
       "      <td>69</td>\n",
       "      <td>81</td>\n",
       "    </tr>\n",
       "  </tbody>\n",
       "</table>\n",
       "<p>10 rows × 63 columns</p>\n",
       "</div>"
      ],
      "text/plain": [
       "  Area Abbreviation  Area Code         Area  Item Code  \\\n",
       "0               AFG          2  Afghanistan       2511   \n",
       "1               AFG          2  Afghanistan       2805   \n",
       "2               AFG          2  Afghanistan       2513   \n",
       "3               AFG          2  Afghanistan       2513   \n",
       "4               AFG          2  Afghanistan       2514   \n",
       "5               AFG          2  Afghanistan       2514   \n",
       "6               AFG          2  Afghanistan       2517   \n",
       "7               AFG          2  Afghanistan       2520   \n",
       "8               AFG          2  Afghanistan       2531   \n",
       "9               AFG          2  Afghanistan       2536   \n",
       "\n",
       "                       Item  Element Code Element         Unit  latitude  \\\n",
       "0        Wheat and products          5142    Food  1000 tonnes     33.94   \n",
       "1  Rice (Milled Equivalent)          5142    Food  1000 tonnes     33.94   \n",
       "2       Barley and products          5521    Feed  1000 tonnes     33.94   \n",
       "3       Barley and products          5142    Food  1000 tonnes     33.94   \n",
       "4        Maize and products          5521    Feed  1000 tonnes     33.94   \n",
       "5        Maize and products          5142    Food  1000 tonnes     33.94   \n",
       "6       Millet and products          5142    Food  1000 tonnes     33.94   \n",
       "7            Cereals, Other          5142    Food  1000 tonnes     33.94   \n",
       "8     Potatoes and products          5142    Food  1000 tonnes     33.94   \n",
       "9                Sugar cane          5521    Feed  1000 tonnes     33.94   \n",
       "\n",
       "   longitude  ...   Y2004   Y2005   Y2006   Y2007   Y2008   Y2009   Y2010  \\\n",
       "0      67.71  ...  3249.0  3486.0  3704.0  4164.0  4252.0  4538.0  4605.0   \n",
       "1      67.71  ...   419.0   445.0   546.0   455.0   490.0   415.0   442.0   \n",
       "2      67.71  ...    58.0   236.0   262.0   263.0   230.0   379.0   315.0   \n",
       "3      67.71  ...   185.0    43.0    44.0    48.0    62.0    55.0    60.0   \n",
       "4      67.71  ...   120.0   208.0   233.0   249.0   247.0   195.0   178.0   \n",
       "5      67.71  ...   231.0    67.0    82.0    67.0    69.0    71.0    82.0   \n",
       "6      67.71  ...    15.0    21.0    11.0    19.0    21.0    18.0    14.0   \n",
       "7      67.71  ...     2.0     1.0     1.0     0.0     0.0     0.0     0.0   \n",
       "8      67.71  ...   276.0   294.0   294.0   260.0   242.0   250.0   192.0   \n",
       "9      67.71  ...    50.0    29.0    61.0    65.0    54.0   114.0    83.0   \n",
       "\n",
       "    Y2011  Y2012  Y2013  \n",
       "0  4711.0   4810   4895  \n",
       "1   476.0    425    422  \n",
       "2   203.0    367    360  \n",
       "3    72.0     78     89  \n",
       "4   191.0    200    200  \n",
       "5    73.0     77     76  \n",
       "6    14.0     14     12  \n",
       "7     0.0      0      0  \n",
       "8   169.0    196    230  \n",
       "9    83.0     69     81  \n",
       "\n",
       "[10 rows x 63 columns]"
      ]
     },
     "execution_count": 23,
     "metadata": {},
     "output_type": "execute_result"
    }
   ],
   "source": [
    "CSV_PATH = 'CSV/FAO.csv'\n",
    "df = pd.read_csv(CSV_PATH, encoding='ISO-8859-1')\n",
    "df.head(10)\n"
   ]
  },
  {
   "cell_type": "markdown",
   "metadata": {},
   "source": [
    "## Informations du CSV:\n",
    "- Valeurs manquantes / nulls,\n",
    "- Valeurs présentes / non nulls,\n",
    "- Valeurs présentes / total."
   ]
  },
  {
   "cell_type": "code",
   "execution_count": 5,
   "metadata": {},
   "outputs": [
    {
     "name": "stdout",
     "output_type": "stream",
     "text": [
      "<class 'pandas.core.frame.DataFrame'>\n",
      "RangeIndex: 21477 entries, 0 to 21476\n",
      "Data columns (total 63 columns):\n",
      " #   Column             Non-Null Count  Dtype  \n",
      "---  ------             --------------  -----  \n",
      " 0   Area Abbreviation  21477 non-null  object \n",
      " 1   Area Code          21477 non-null  int64  \n",
      " 2   Area               21477 non-null  object \n",
      " 3   Item Code          21477 non-null  int64  \n",
      " 4   Item               21477 non-null  object \n",
      " 5   Element Code       21477 non-null  int64  \n",
      " 6   Element            21477 non-null  object \n",
      " 7   Unit               21477 non-null  object \n",
      " 8   latitude           21477 non-null  float64\n",
      " 9   longitude          21477 non-null  float64\n",
      " 10  Y1961              17938 non-null  float64\n",
      " 11  Y1962              17938 non-null  float64\n",
      " 12  Y1963              17938 non-null  float64\n",
      " 13  Y1964              17938 non-null  float64\n",
      " 14  Y1965              17938 non-null  float64\n",
      " 15  Y1966              17938 non-null  float64\n",
      " 16  Y1967              17938 non-null  float64\n",
      " 17  Y1968              17938 non-null  float64\n",
      " 18  Y1969              17938 non-null  float64\n",
      " 19  Y1970              17938 non-null  float64\n",
      " 20  Y1971              17938 non-null  float64\n",
      " 21  Y1972              17938 non-null  float64\n",
      " 22  Y1973              17938 non-null  float64\n",
      " 23  Y1974              17938 non-null  float64\n",
      " 24  Y1975              17938 non-null  float64\n",
      " 25  Y1976              17938 non-null  float64\n",
      " 26  Y1977              17938 non-null  float64\n",
      " 27  Y1978              17938 non-null  float64\n",
      " 28  Y1979              17938 non-null  float64\n",
      " 29  Y1980              17938 non-null  float64\n",
      " 30  Y1981              17938 non-null  float64\n",
      " 31  Y1982              17938 non-null  float64\n",
      " 32  Y1983              17938 non-null  float64\n",
      " 33  Y1984              17938 non-null  float64\n",
      " 34  Y1985              17938 non-null  float64\n",
      " 35  Y1986              17938 non-null  float64\n",
      " 36  Y1987              17938 non-null  float64\n",
      " 37  Y1988              17938 non-null  float64\n",
      " 38  Y1989              17938 non-null  float64\n",
      " 39  Y1990              18062 non-null  float64\n",
      " 40  Y1991              18062 non-null  float64\n",
      " 41  Y1992              20490 non-null  float64\n",
      " 42  Y1993              20865 non-null  float64\n",
      " 43  Y1994              20865 non-null  float64\n",
      " 44  Y1995              20865 non-null  float64\n",
      " 45  Y1996              20865 non-null  float64\n",
      " 46  Y1997              20865 non-null  float64\n",
      " 47  Y1998              20865 non-null  float64\n",
      " 48  Y1999              20865 non-null  float64\n",
      " 49  Y2000              21128 non-null  float64\n",
      " 50  Y2001              21128 non-null  float64\n",
      " 51  Y2002              21128 non-null  float64\n",
      " 52  Y2003              21128 non-null  float64\n",
      " 53  Y2004              21128 non-null  float64\n",
      " 54  Y2005              21128 non-null  float64\n",
      " 55  Y2006              21373 non-null  float64\n",
      " 56  Y2007              21373 non-null  float64\n",
      " 57  Y2008              21373 non-null  float64\n",
      " 58  Y2009              21373 non-null  float64\n",
      " 59  Y2010              21373 non-null  float64\n",
      " 60  Y2011              21373 non-null  float64\n",
      " 61  Y2012              21477 non-null  int64  \n",
      " 62  Y2013              21477 non-null  int64  \n",
      "dtypes: float64(53), int64(5), object(5)\n",
      "memory usage: 10.3+ MB\n",
      "Y1961 3539\n",
      "Y1962 3539\n",
      "Y1963 3539\n",
      "Y1964 3539\n",
      "Y1965 3539\n",
      "Y1966 3539\n",
      "Y1967 3539\n",
      "Y1968 3539\n",
      "Y1969 3539\n",
      "Y1970 3539\n",
      "Y1971 3539\n",
      "Y1972 3539\n",
      "Y1973 3539\n",
      "Y1974 3539\n",
      "Y1975 3539\n",
      "Y1976 3539\n",
      "Y1977 3539\n",
      "Y1978 3539\n",
      "Y1979 3539\n",
      "Y1980 3539\n",
      "Y1981 3539\n",
      "Y1982 3539\n",
      "Y1983 3539\n",
      "Y1984 3539\n",
      "Y1985 3539\n",
      "Y1986 3539\n",
      "Y1987 3539\n",
      "Y1988 3539\n",
      "Y1989 3539\n",
      "Y1990 3415\n",
      "Y1991 3415\n",
      "Y1992 987\n",
      "Y1993 612\n",
      "Y1994 612\n",
      "Y1995 612\n",
      "Y1996 612\n",
      "Y1997 612\n",
      "Y1998 612\n",
      "Y1999 612\n",
      "Y2000 349\n",
      "Y2001 349\n",
      "Y2002 349\n",
      "Y2003 349\n",
      "Y2004 349\n",
      "Y2005 349\n",
      "Y2006 104\n",
      "Y2007 104\n",
      "Y2008 104\n",
      "Y2009 104\n",
      "Y2010 104\n",
      "Y2011 104\n",
      "Total value:  1353051\n",
      "Total not null value:  1235601\n",
      "Total null value:  117450\n"
     ]
    },
    {
     "name": "stderr",
     "output_type": "stream",
     "text": [
      "C:\\Users\\aurel\\AppData\\Local\\Temp\\ipykernel_19696\\912211360.py:4: FutureWarning: Series.__getitem__ treating keys as positions is deprecated. In a future version, integer keys will always be treated as labels (consistent with DataFrame behavior). To access a value by position, use `ser.iloc[pos]`\n",
      "  if isNull[i] > 0:\n",
      "C:\\Users\\aurel\\AppData\\Local\\Temp\\ipykernel_19696\\912211360.py:5: FutureWarning: Series.__getitem__ treating keys as positions is deprecated. In a future version, integer keys will always be treated as labels (consistent with DataFrame behavior). To access a value by position, use `ser.iloc[pos]`\n",
      "  print(df.columns[i], isNull[i])\n"
     ]
    }
   ],
   "source": [
    "df.info()\n",
    "isNull = df.isnull().sum()\n",
    "for i in range(len(isNull)):\n",
    "    if isNull[i] > 0:\n",
    "        print(df.columns[i], isNull[i])\n",
    "totalNotNull = df.notnull().sum().sum()\n",
    "totalNull = df.isnull().sum().sum()\n",
    "totalValue = totalNotNull + totalNull\n",
    "print(\"Total value: \", totalValue)\n",
    "print(\"Total not null value: \", totalNotNull)\n",
    "print(\"Total null value: \", totalNull)"
   ]
  },
  {
   "cell_type": "markdown",
   "metadata": {},
   "source": [
    "## Type de données par colonne:\n",
    "- Qualitative,\n",
    "- Quantitative discrète,\n",
    "- Quantitative continue."
   ]
  },
  {
   "cell_type": "code",
   "execution_count": 6,
   "metadata": {},
   "outputs": [
    {
     "name": "stdout",
     "output_type": "stream",
     "text": [
      "Area Abbreviation     object\n",
      "Area Code              int64\n",
      "Area                  object\n",
      "Item Code              int64\n",
      "Item                  object\n",
      "                      ...   \n",
      "2009                 float64\n",
      "2010                 float64\n",
      "2011                 float64\n",
      "2012                   int64\n",
      "2013                   int64\n",
      "Length: 63, dtype: object\n"
     ]
    }
   ],
   "source": [
    "df.rename(columns=lambda x: x.replace('Y', ''), inplace=True)\n",
    "print(df.dtypes)"
   ]
  },
  {
   "cell_type": "markdown",
   "metadata": {},
   "source": [
    "Les colonnes \"Y2012\" et \"Y2013\" sont en int64, alors que les autres sont en float64.\n",
    "On va donc faire des une conversion de type de données pour ces deux colonnes afin de garder une certaine cohérence."
   ]
  },
  {
   "cell_type": "code",
   "execution_count": 7,
   "metadata": {},
   "outputs": [
    {
     "name": "stdout",
     "output_type": "stream",
     "text": [
      "Qualitative:  ['Area Abbreviation', 'Area', 'Item', 'Element', 'Unit']\n",
      "Discrete:  ['Area Code', 'Item Code', 'Element Code']\n",
      "Continue:  ['latitude', 'longitude', '1961', '1962', '1963', '1964', '1965', '1966', '1967', '1968', '1969', '1970', '1971', '1972', '1973', '1974', '1975', '1976', '1977', '1978', '1979', '1980', '1981', '1982', '1983', '1984', '1985', '1986', '1987', '1988', '1989', '1990', '1991', '1992', '1993', '1994', '1995', '1996', '1997', '1998', '1999', '2000', '2001', '2002', '2003', '2004', '2005', '2006', '2007', '2008', '2009', '2010', '2011', '2012', '2013']\n"
     ]
    }
   ],
   "source": [
    "Qualitative = []\n",
    "Discrete = []\n",
    "Continue = []\n",
    "df['2012'] = df['2012'].astype('float64')\n",
    "df['2013'] = df['2013'].astype('float64')\n",
    "for i in range(len(df.dtypes)):\n",
    "    if df.dtypes.iloc[i] == 'object':\n",
    "        Qualitative.append(df.columns[i])\n",
    "    if df.dtypes.iloc[i] == 'int64':\n",
    "        Discrete.append(df.columns[i])\n",
    "    if df.dtypes.iloc[i] == 'float64':\n",
    "        Continue.append(df.columns[i])\n",
    "\n",
    "print(\"Qualitative: \", Qualitative)\n",
    "print(\"Discrete: \", Discrete)\n",
    "print(\"Continue: \", Continue)"
   ]
  },
  {
   "cell_type": "markdown",
   "metadata": {},
   "source": [
    "Chaque donnée qualitative est de nature Nominal, car elle ne permettent pas de ranger les données dans un ordre précis.\n",
    "\n",
    "Les données discrètes sont des valeurs fixes définient, elle n'appartiennent pas à un intervalle de valeurs.\n",
    "\n",
    "Les données continues sont des valeurs qui peuvent prendre n'importe quelle valeur dans un intervalle donné, elles servent de mesure d'unités de nourriture produite ou consommé dans notre cas."
   ]
  },
  {
   "cell_type": "markdown",
   "metadata": {},
   "source": [
    "## Classement des pays plus gros producteurs/consommateurs par produits:\n",
    "- Production destiné à l'Homme = Food,\n",
    "- Production destiné au bétail = Feed."
   ]
  },
  {
   "cell_type": "code",
   "execution_count": 8,
   "metadata": {},
   "outputs": [
    {
     "name": "stdout",
     "output_type": "stream",
     "text": [
      "Données manquantes :\n",
      "             Area                      Item  Y1961  Y1962  Y1963  Y1964  \\\n",
      "679       Armenia        Wheat and products    NaN    NaN    NaN    NaN   \n",
      "680       Armenia        Wheat and products    NaN    NaN    NaN    NaN   \n",
      "681       Armenia  Rice (Milled Equivalent)    NaN    NaN    NaN    NaN   \n",
      "682       Armenia  Rice (Milled Equivalent)    NaN    NaN    NaN    NaN   \n",
      "683       Armenia       Barley and products    NaN    NaN    NaN    NaN   \n",
      "...           ...                       ...    ...    ...    ...    ...   \n",
      "20777  Uzbekistan   Milk - Excluding Butter    NaN    NaN    NaN    NaN   \n",
      "20778  Uzbekistan             Fish, Seafood    NaN    NaN    NaN    NaN   \n",
      "20779  Uzbekistan             Fish, Seafood    NaN    NaN    NaN    NaN   \n",
      "20780  Uzbekistan   Aquatic Products, Other    NaN    NaN    NaN    NaN   \n",
      "20781  Uzbekistan             Miscellaneous    NaN    NaN    NaN    NaN   \n",
      "\n",
      "       Y1965  Y1966  Y1967  Y1968  ...  Y1982  Y1983  Y1984  Y1985  Y1986  \\\n",
      "679      NaN    NaN    NaN    NaN  ...    NaN    NaN    NaN    NaN    NaN   \n",
      "680      NaN    NaN    NaN    NaN  ...    NaN    NaN    NaN    NaN    NaN   \n",
      "681      NaN    NaN    NaN    NaN  ...    NaN    NaN    NaN    NaN    NaN   \n",
      "682      NaN    NaN    NaN    NaN  ...    NaN    NaN    NaN    NaN    NaN   \n",
      "683      NaN    NaN    NaN    NaN  ...    NaN    NaN    NaN    NaN    NaN   \n",
      "...      ...    ...    ...    ...  ...    ...    ...    ...    ...    ...   \n",
      "20777    NaN    NaN    NaN    NaN  ...    NaN    NaN    NaN    NaN    NaN   \n",
      "20778    NaN    NaN    NaN    NaN  ...    NaN    NaN    NaN    NaN    NaN   \n",
      "20779    NaN    NaN    NaN    NaN  ...    NaN    NaN    NaN    NaN    NaN   \n",
      "20780    NaN    NaN    NaN    NaN  ...    NaN    NaN    NaN    NaN    NaN   \n",
      "20781    NaN    NaN    NaN    NaN  ...    NaN    NaN    NaN    NaN    NaN   \n",
      "\n",
      "       Y1987  Y1988  Y1989  Y1990  Y1991  \n",
      "679      NaN    NaN    NaN    NaN    NaN  \n",
      "680      NaN    NaN    NaN    NaN    NaN  \n",
      "681      NaN    NaN    NaN    NaN    NaN  \n",
      "682      NaN    NaN    NaN    NaN    NaN  \n",
      "683      NaN    NaN    NaN    NaN    NaN  \n",
      "...      ...    ...    ...    ...    ...  \n",
      "20777    NaN    NaN    NaN    NaN    NaN  \n",
      "20778    NaN    NaN    NaN    NaN    NaN  \n",
      "20779    NaN    NaN    NaN    NaN    NaN  \n",
      "20780    NaN    NaN    NaN    NaN    NaN  \n",
      "20781    NaN    NaN    NaN    NaN    NaN  \n",
      "\n",
      "[3539 rows x 33 columns]\n",
      "Pays avec des données manquantes :\n",
      "Armenia\n",
      "Azerbaijan\n",
      "Belarus\n",
      "Belgium\n",
      "Bosnia and Herzegovina\n",
      "Croatia\n",
      "Czechia\n",
      "Estonia\n",
      "Ethiopia\n",
      "Georgia\n",
      "Kazakhstan\n",
      "Kyrgyzstan\n",
      "Latvia\n",
      "Lithuania\n",
      "Luxembourg\n",
      "Montenegro\n",
      "Oman\n",
      "Republic of Moldova\n",
      "Russian Federation\n",
      "Serbia\n",
      "Slovakia\n",
      "Slovenia\n",
      "Sudan\n",
      "Tajikistan\n",
      "The former Yugoslav Republic of Macedonia\n",
      "Turkmenistan\n",
      "Ukraine\n",
      "Uzbekistan\n"
     ]
    }
   ],
   "source": [
    "path_csv = './csv/FAO_cleaned.csv'\n",
    "dataframe = pd.read_csv(path_csv, encoding='ISO-8859-1')\n",
    "\n",
    "missing_values = dataframe[dataframe.isnull().any(axis=1)]\n",
    "\n",
    "if not missing_values.empty:\n",
    "    print(\"Données manquantes :\")\n",
    "    print(missing_values[['Area', 'Item'] + [col for col in dataframe.columns if pd.isna(missing_values[col].iloc[0])]])\n",
    "else:\n",
    "    print(\"Aucune donnée manquante dans le DataFrame.\")\n",
    "\n",
    "countries_with_missing_data = dataframe[dataframe.isnull().any(axis=1)]['Area'].unique()\n",
    "\n",
    "if len(countries_with_missing_data) > 0:\n",
    "    print(\"Pays avec des données manquantes :\")\n",
    "    for country in countries_with_missing_data:\n",
    "        print(country)\n",
    "else:\n",
    "    print(\"Aucun pays avec des données manquantes dans le DataFrame.\")"
   ]
  },
  {
   "cell_type": "markdown",
   "metadata": {},
   "source": [
    "Nous pouvons constater que l'ensemble des données manquantes se situent entre 1961 et 1991.\n",
    "Pour la plupart des pays, le manque de données s'explique par le fait que ces pays n'existaient pas à cette époque. Ils ont été crées après la Guerre Froide. C'est le cas pour: Arménie, Azerbaïdjan, Bielorussie, Bosnie Hezégovine, Croatie, République Tchèque, Georgie, Kazakhstan, Monténégro, Moldavie, Serbie, Slovaquie, Slovenie, Tadjikistan, Ancienne République de Macédoine, Turkménistan, Ukraine et Ouzbékistan. \n",
    "Pour les autres pays, le manque de données s'explique par le fait qu'ils étaient sous développés sur cette période là ou encore par la présence de guerres sur le territoire ou le fait qu'ils étaient indéxés à d'autre pays."
   ]
  },
  {
   "cell_type": "code",
   "execution_count": 15,
   "metadata": {},
   "outputs": [
    {
     "data": {
      "application/vnd.plotly.v1+json": {
       "config": {
        "plotlyServerURL": "https://plot.ly"
       },
       "data": [
        {
         "hovertemplate": "Year=%{x}<br>Total Feed=%{y}<extra></extra>",
         "legendgroup": "",
         "line": {
          "color": "#636efa",
          "dash": "solid"
         },
         "marker": {
          "symbol": "circle"
         },
         "mode": "lines",
         "name": "",
         "orientation": "v",
         "showlegend": false,
         "type": "scatter",
         "x": [
          1961,
          1962,
          1963,
          1964,
          1965,
          1966,
          1967,
          1968,
          1969,
          1970,
          1971,
          1972,
          1973,
          1974,
          1975,
          1976,
          1977,
          1978,
          1979,
          1980,
          1981,
          1982,
          1983,
          1984,
          1985,
          1986,
          1987,
          1988,
          1989,
          1990,
          1991,
          1992,
          1993,
          1994,
          1995,
          1996,
          1997,
          1998,
          1999,
          2000,
          2001,
          2002,
          2003,
          2004,
          2005,
          2006,
          2007,
          2008,
          2009,
          2010,
          2011,
          2012,
          2013
         ],
         "xaxis": "x",
         "y": [
          720,
          720,
          736,
          740,
          720,
          724,
          788,
          826,
          838,
          678,
          648,
          682,
          762,
          774,
          760,
          816,
          744,
          762,
          756,
          824,
          732,
          686,
          666,
          658,
          572,
          534,
          468,
          542,
          535,
          562,
          496,
          424,
          566,
          606,
          640,
          570,
          562,
          582,
          554,
          397,
          346,
          638,
          568,
          704,
          1184,
          1342,
          1392,
          1294,
          1616,
          1388,
          1192,
          1522,
          1536
         ],
         "yaxis": "y"
        }
       ],
       "layout": {
        "legend": {
         "tracegroupgap": 0
        },
        "template": {
         "data": {
          "bar": [
           {
            "error_x": {
             "color": "#2a3f5f"
            },
            "error_y": {
             "color": "#2a3f5f"
            },
            "marker": {
             "line": {
              "color": "#E5ECF6",
              "width": 0.5
             },
             "pattern": {
              "fillmode": "overlay",
              "size": 10,
              "solidity": 0.2
             }
            },
            "type": "bar"
           }
          ],
          "barpolar": [
           {
            "marker": {
             "line": {
              "color": "#E5ECF6",
              "width": 0.5
             },
             "pattern": {
              "fillmode": "overlay",
              "size": 10,
              "solidity": 0.2
             }
            },
            "type": "barpolar"
           }
          ],
          "carpet": [
           {
            "aaxis": {
             "endlinecolor": "#2a3f5f",
             "gridcolor": "white",
             "linecolor": "white",
             "minorgridcolor": "white",
             "startlinecolor": "#2a3f5f"
            },
            "baxis": {
             "endlinecolor": "#2a3f5f",
             "gridcolor": "white",
             "linecolor": "white",
             "minorgridcolor": "white",
             "startlinecolor": "#2a3f5f"
            },
            "type": "carpet"
           }
          ],
          "choropleth": [
           {
            "colorbar": {
             "outlinewidth": 0,
             "ticks": ""
            },
            "type": "choropleth"
           }
          ],
          "contour": [
           {
            "colorbar": {
             "outlinewidth": 0,
             "ticks": ""
            },
            "colorscale": [
             [
              0,
              "#0d0887"
             ],
             [
              0.1111111111111111,
              "#46039f"
             ],
             [
              0.2222222222222222,
              "#7201a8"
             ],
             [
              0.3333333333333333,
              "#9c179e"
             ],
             [
              0.4444444444444444,
              "#bd3786"
             ],
             [
              0.5555555555555556,
              "#d8576b"
             ],
             [
              0.6666666666666666,
              "#ed7953"
             ],
             [
              0.7777777777777778,
              "#fb9f3a"
             ],
             [
              0.8888888888888888,
              "#fdca26"
             ],
             [
              1,
              "#f0f921"
             ]
            ],
            "type": "contour"
           }
          ],
          "contourcarpet": [
           {
            "colorbar": {
             "outlinewidth": 0,
             "ticks": ""
            },
            "type": "contourcarpet"
           }
          ],
          "heatmap": [
           {
            "colorbar": {
             "outlinewidth": 0,
             "ticks": ""
            },
            "colorscale": [
             [
              0,
              "#0d0887"
             ],
             [
              0.1111111111111111,
              "#46039f"
             ],
             [
              0.2222222222222222,
              "#7201a8"
             ],
             [
              0.3333333333333333,
              "#9c179e"
             ],
             [
              0.4444444444444444,
              "#bd3786"
             ],
             [
              0.5555555555555556,
              "#d8576b"
             ],
             [
              0.6666666666666666,
              "#ed7953"
             ],
             [
              0.7777777777777778,
              "#fb9f3a"
             ],
             [
              0.8888888888888888,
              "#fdca26"
             ],
             [
              1,
              "#f0f921"
             ]
            ],
            "type": "heatmap"
           }
          ],
          "heatmapgl": [
           {
            "colorbar": {
             "outlinewidth": 0,
             "ticks": ""
            },
            "colorscale": [
             [
              0,
              "#0d0887"
             ],
             [
              0.1111111111111111,
              "#46039f"
             ],
             [
              0.2222222222222222,
              "#7201a8"
             ],
             [
              0.3333333333333333,
              "#9c179e"
             ],
             [
              0.4444444444444444,
              "#bd3786"
             ],
             [
              0.5555555555555556,
              "#d8576b"
             ],
             [
              0.6666666666666666,
              "#ed7953"
             ],
             [
              0.7777777777777778,
              "#fb9f3a"
             ],
             [
              0.8888888888888888,
              "#fdca26"
             ],
             [
              1,
              "#f0f921"
             ]
            ],
            "type": "heatmapgl"
           }
          ],
          "histogram": [
           {
            "marker": {
             "pattern": {
              "fillmode": "overlay",
              "size": 10,
              "solidity": 0.2
             }
            },
            "type": "histogram"
           }
          ],
          "histogram2d": [
           {
            "colorbar": {
             "outlinewidth": 0,
             "ticks": ""
            },
            "colorscale": [
             [
              0,
              "#0d0887"
             ],
             [
              0.1111111111111111,
              "#46039f"
             ],
             [
              0.2222222222222222,
              "#7201a8"
             ],
             [
              0.3333333333333333,
              "#9c179e"
             ],
             [
              0.4444444444444444,
              "#bd3786"
             ],
             [
              0.5555555555555556,
              "#d8576b"
             ],
             [
              0.6666666666666666,
              "#ed7953"
             ],
             [
              0.7777777777777778,
              "#fb9f3a"
             ],
             [
              0.8888888888888888,
              "#fdca26"
             ],
             [
              1,
              "#f0f921"
             ]
            ],
            "type": "histogram2d"
           }
          ],
          "histogram2dcontour": [
           {
            "colorbar": {
             "outlinewidth": 0,
             "ticks": ""
            },
            "colorscale": [
             [
              0,
              "#0d0887"
             ],
             [
              0.1111111111111111,
              "#46039f"
             ],
             [
              0.2222222222222222,
              "#7201a8"
             ],
             [
              0.3333333333333333,
              "#9c179e"
             ],
             [
              0.4444444444444444,
              "#bd3786"
             ],
             [
              0.5555555555555556,
              "#d8576b"
             ],
             [
              0.6666666666666666,
              "#ed7953"
             ],
             [
              0.7777777777777778,
              "#fb9f3a"
             ],
             [
              0.8888888888888888,
              "#fdca26"
             ],
             [
              1,
              "#f0f921"
             ]
            ],
            "type": "histogram2dcontour"
           }
          ],
          "mesh3d": [
           {
            "colorbar": {
             "outlinewidth": 0,
             "ticks": ""
            },
            "type": "mesh3d"
           }
          ],
          "parcoords": [
           {
            "line": {
             "colorbar": {
              "outlinewidth": 0,
              "ticks": ""
             }
            },
            "type": "parcoords"
           }
          ],
          "pie": [
           {
            "automargin": true,
            "type": "pie"
           }
          ],
          "scatter": [
           {
            "fillpattern": {
             "fillmode": "overlay",
             "size": 10,
             "solidity": 0.2
            },
            "type": "scatter"
           }
          ],
          "scatter3d": [
           {
            "line": {
             "colorbar": {
              "outlinewidth": 0,
              "ticks": ""
             }
            },
            "marker": {
             "colorbar": {
              "outlinewidth": 0,
              "ticks": ""
             }
            },
            "type": "scatter3d"
           }
          ],
          "scattercarpet": [
           {
            "marker": {
             "colorbar": {
              "outlinewidth": 0,
              "ticks": ""
             }
            },
            "type": "scattercarpet"
           }
          ],
          "scattergeo": [
           {
            "marker": {
             "colorbar": {
              "outlinewidth": 0,
              "ticks": ""
             }
            },
            "type": "scattergeo"
           }
          ],
          "scattergl": [
           {
            "marker": {
             "colorbar": {
              "outlinewidth": 0,
              "ticks": ""
             }
            },
            "type": "scattergl"
           }
          ],
          "scattermapbox": [
           {
            "marker": {
             "colorbar": {
              "outlinewidth": 0,
              "ticks": ""
             }
            },
            "type": "scattermapbox"
           }
          ],
          "scatterpolar": [
           {
            "marker": {
             "colorbar": {
              "outlinewidth": 0,
              "ticks": ""
             }
            },
            "type": "scatterpolar"
           }
          ],
          "scatterpolargl": [
           {
            "marker": {
             "colorbar": {
              "outlinewidth": 0,
              "ticks": ""
             }
            },
            "type": "scatterpolargl"
           }
          ],
          "scatterternary": [
           {
            "marker": {
             "colorbar": {
              "outlinewidth": 0,
              "ticks": ""
             }
            },
            "type": "scatterternary"
           }
          ],
          "surface": [
           {
            "colorbar": {
             "outlinewidth": 0,
             "ticks": ""
            },
            "colorscale": [
             [
              0,
              "#0d0887"
             ],
             [
              0.1111111111111111,
              "#46039f"
             ],
             [
              0.2222222222222222,
              "#7201a8"
             ],
             [
              0.3333333333333333,
              "#9c179e"
             ],
             [
              0.4444444444444444,
              "#bd3786"
             ],
             [
              0.5555555555555556,
              "#d8576b"
             ],
             [
              0.6666666666666666,
              "#ed7953"
             ],
             [
              0.7777777777777778,
              "#fb9f3a"
             ],
             [
              0.8888888888888888,
              "#fdca26"
             ],
             [
              1,
              "#f0f921"
             ]
            ],
            "type": "surface"
           }
          ],
          "table": [
           {
            "cells": {
             "fill": {
              "color": "#EBF0F8"
             },
             "line": {
              "color": "white"
             }
            },
            "header": {
             "fill": {
              "color": "#C8D4E3"
             },
             "line": {
              "color": "white"
             }
            },
            "type": "table"
           }
          ]
         },
         "layout": {
          "annotationdefaults": {
           "arrowcolor": "#2a3f5f",
           "arrowhead": 0,
           "arrowwidth": 1
          },
          "autotypenumbers": "strict",
          "coloraxis": {
           "colorbar": {
            "outlinewidth": 0,
            "ticks": ""
           }
          },
          "colorscale": {
           "diverging": [
            [
             0,
             "#8e0152"
            ],
            [
             0.1,
             "#c51b7d"
            ],
            [
             0.2,
             "#de77ae"
            ],
            [
             0.3,
             "#f1b6da"
            ],
            [
             0.4,
             "#fde0ef"
            ],
            [
             0.5,
             "#f7f7f7"
            ],
            [
             0.6,
             "#e6f5d0"
            ],
            [
             0.7,
             "#b8e186"
            ],
            [
             0.8,
             "#7fbc41"
            ],
            [
             0.9,
             "#4d9221"
            ],
            [
             1,
             "#276419"
            ]
           ],
           "sequential": [
            [
             0,
             "#0d0887"
            ],
            [
             0.1111111111111111,
             "#46039f"
            ],
            [
             0.2222222222222222,
             "#7201a8"
            ],
            [
             0.3333333333333333,
             "#9c179e"
            ],
            [
             0.4444444444444444,
             "#bd3786"
            ],
            [
             0.5555555555555556,
             "#d8576b"
            ],
            [
             0.6666666666666666,
             "#ed7953"
            ],
            [
             0.7777777777777778,
             "#fb9f3a"
            ],
            [
             0.8888888888888888,
             "#fdca26"
            ],
            [
             1,
             "#f0f921"
            ]
           ],
           "sequentialminus": [
            [
             0,
             "#0d0887"
            ],
            [
             0.1111111111111111,
             "#46039f"
            ],
            [
             0.2222222222222222,
             "#7201a8"
            ],
            [
             0.3333333333333333,
             "#9c179e"
            ],
            [
             0.4444444444444444,
             "#bd3786"
            ],
            [
             0.5555555555555556,
             "#d8576b"
            ],
            [
             0.6666666666666666,
             "#ed7953"
            ],
            [
             0.7777777777777778,
             "#fb9f3a"
            ],
            [
             0.8888888888888888,
             "#fdca26"
            ],
            [
             1,
             "#f0f921"
            ]
           ]
          },
          "colorway": [
           "#636efa",
           "#EF553B",
           "#00cc96",
           "#ab63fa",
           "#FFA15A",
           "#19d3f3",
           "#FF6692",
           "#B6E880",
           "#FF97FF",
           "#FECB52"
          ],
          "font": {
           "color": "#2a3f5f"
          },
          "geo": {
           "bgcolor": "white",
           "lakecolor": "white",
           "landcolor": "#E5ECF6",
           "showlakes": true,
           "showland": true,
           "subunitcolor": "white"
          },
          "hoverlabel": {
           "align": "left"
          },
          "hovermode": "closest",
          "mapbox": {
           "style": "light"
          },
          "paper_bgcolor": "white",
          "plot_bgcolor": "#E5ECF6",
          "polar": {
           "angularaxis": {
            "gridcolor": "white",
            "linecolor": "white",
            "ticks": ""
           },
           "bgcolor": "#E5ECF6",
           "radialaxis": {
            "gridcolor": "white",
            "linecolor": "white",
            "ticks": ""
           }
          },
          "scene": {
           "xaxis": {
            "backgroundcolor": "#E5ECF6",
            "gridcolor": "white",
            "gridwidth": 2,
            "linecolor": "white",
            "showbackground": true,
            "ticks": "",
            "zerolinecolor": "white"
           },
           "yaxis": {
            "backgroundcolor": "#E5ECF6",
            "gridcolor": "white",
            "gridwidth": 2,
            "linecolor": "white",
            "showbackground": true,
            "ticks": "",
            "zerolinecolor": "white"
           },
           "zaxis": {
            "backgroundcolor": "#E5ECF6",
            "gridcolor": "white",
            "gridwidth": 2,
            "linecolor": "white",
            "showbackground": true,
            "ticks": "",
            "zerolinecolor": "white"
           }
          },
          "shapedefaults": {
           "line": {
            "color": "#2a3f5f"
           }
          },
          "ternary": {
           "aaxis": {
            "gridcolor": "white",
            "linecolor": "white",
            "ticks": ""
           },
           "baxis": {
            "gridcolor": "white",
            "linecolor": "white",
            "ticks": ""
           },
           "bgcolor": "#E5ECF6",
           "caxis": {
            "gridcolor": "white",
            "linecolor": "white",
            "ticks": ""
           }
          },
          "title": {
           "x": 0.05
          },
          "xaxis": {
           "automargin": true,
           "gridcolor": "white",
           "linecolor": "white",
           "ticks": "",
           "title": {
            "standoff": 15
           },
           "zerolinecolor": "white",
           "zerolinewidth": 2
          },
          "yaxis": {
           "automargin": true,
           "gridcolor": "white",
           "linecolor": "white",
           "ticks": "",
           "title": {
            "standoff": 15
           },
           "zerolinecolor": "white",
           "zerolinewidth": 2
          }
         }
        },
        "title": {
         "text": "Évolution de Feed en Afghanistan au fil des années"
        },
        "xaxis": {
         "anchor": "y",
         "domain": [
          0,
          1
         ],
         "title": {
          "text": "Year"
         }
        },
        "yaxis": {
         "anchor": "x",
         "domain": [
          0,
          1
         ],
         "title": {
          "text": "Total Feed"
         }
        }
       }
      }
     },
     "metadata": {},
     "output_type": "display_data"
    }
   ],
   "source": [
    "\n",
    "\n",
    "afghanistan_feed_data = dataframe[(dataframe['Area'] == 'Afghanistan') & (dataframe['Element'] == 'Feed')]\n",
    "id_columns = afghanistan_feed_data.columns[:10]\n",
    "\n",
    "afghanistan_feed_data = pd.melt(afghanistan_feed_data, id_vars=id_columns, var_name='Year', value_name='Value')\n",
    "\n",
    "afghanistan_feed_data['Year'] = afghanistan_feed_data['Year'].str.extract('(\\d+)').astype(float)\n",
    "\n",
    "feed_data = afghanistan_feed_data[afghanistan_feed_data['Element'] == 'Feed']\n",
    "\n",
    "summary_by_year = feed_data.groupby('Year')['Value'].sum()\n",
    "\n",
    "df_plot = pd.DataFrame({'Year': summary_by_year.index, 'Total Feed': summary_by_year.values})\n",
    "\n",
    "fig = px.line(df_plot, x='Year', y='Total Feed', title='Évolution de Feed en Afghanistan au fil des années')\n",
    "fig.show()\n",
    "\n",
    "\n",
    "\n"
   ]
  },
  {
   "cell_type": "code",
   "execution_count": null,
   "metadata": {},
   "outputs": [],
   "source": []
  }
 ],
 "metadata": {
  "kernelspec": {
   "display_name": "Python 3",
   "language": "python",
   "name": "python3"
  },
  "language_info": {
   "codemirror_mode": {
    "name": "ipython",
    "version": 3
   },
   "file_extension": ".py",
   "mimetype": "text/x-python",
   "name": "python",
   "nbconvert_exporter": "python",
   "pygments_lexer": "ipython3",
   "version": "3.10.6"
  }
 },
 "nbformat": 4,
 "nbformat_minor": 2
}
